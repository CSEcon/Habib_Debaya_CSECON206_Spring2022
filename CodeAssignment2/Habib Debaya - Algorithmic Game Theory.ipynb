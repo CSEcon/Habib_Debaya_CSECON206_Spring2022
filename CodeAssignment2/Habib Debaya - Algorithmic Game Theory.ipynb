{
  "cells": [
    {
      "cell_type": "markdown",
      "metadata": {
        "id": "OjOGY3gD4unW"
      },
      "source": [
        "<font size = 6>Nashpy VS quantecon</font>"
      ]
    },
    {
      "cell_type": "code",
      "execution_count": 1,
      "metadata": {
        "colab": {
          "base_uri": "https://localhost:8080/"
        },
        "id": "cC01j2FmwYHd",
        "outputId": "fcc3822a-cbc5-4840-e369-22fff4091a0a"
      },
      "outputs": [
        {
          "name": "stdout",
          "output_type": "stream",
          "text": [
            "\u001b[33mDEPRECATION: Configuring installation scheme with distutils config files is deprecated and will no longer work in the near future. If you are using a Homebrew or Linuxbrew Python, please see discussion at https://github.com/Homebrew/homebrew-core/issues/76621\u001b[0m\n",
            "Requirement already satisfied: setuptools in /usr/local/lib/python3.9/site-packages (58.5.3)\n",
            "Collecting setuptools\n",
            "  Downloading setuptools-62.1.0-py3-none-any.whl (1.1 MB)\n",
            "     |████████████████████████████████| 1.1 MB 162 kB/s            \n",
            "\u001b[?25hInstalling collected packages: setuptools\n",
            "  Attempting uninstall: setuptools\n",
            "    Found existing installation: setuptools 58.5.3\n",
            "    Uninstalling setuptools-58.5.3:\n",
            "      Successfully uninstalled setuptools-58.5.3\n",
            "\u001b[33mDEPRECATION: Configuring installation scheme with distutils config files is deprecated and will no longer work in the near future. If you are using a Homebrew or Linuxbrew Python, please see discussion at https://github.com/Homebrew/homebrew-core/issues/76621\u001b[0m\n",
            "Successfully installed setuptools-62.1.0\n",
            "\u001b[33mWARNING: You are using pip version 21.3.1; however, version 22.0.4 is available.\n",
            "You should consider upgrading via the '/usr/local/opt/python@3.9/bin/python3.9 -m pip install --upgrade pip' command.\u001b[0m\n",
            "Note: you may need to restart the kernel to use updated packages.\n",
            "\u001b[33mDEPRECATION: Configuring installation scheme with distutils config files is deprecated and will no longer work in the near future. If you are using a Homebrew or Linuxbrew Python, please see discussion at https://github.com/Homebrew/homebrew-core/issues/76621\u001b[0m\n",
            "Requirement already satisfied: pip in /usr/local/lib/python3.9/site-packages (21.3.1)\n",
            "Collecting pip\n",
            "  Downloading pip-22.0.4-py3-none-any.whl (2.1 MB)\n",
            "     |████████████████████████████████| 2.1 MB 737 kB/s            \n",
            "\u001b[?25hInstalling collected packages: pip\n",
            "  Attempting uninstall: pip\n",
            "    Found existing installation: pip 21.3.1\n",
            "    Uninstalling pip-21.3.1:\n",
            "      Successfully uninstalled pip-21.3.1\n",
            "\u001b[33mDEPRECATION: Configuring installation scheme with distutils config files is deprecated and will no longer work in the near future. If you are using a Homebrew or Linuxbrew Python, please see discussion at https://github.com/Homebrew/homebrew-core/issues/76621\u001b[0m\n",
            "Successfully installed pip-22.0.4\n",
            "Note: you may need to restart the kernel to use updated packages.\n",
            "\u001b[33mDEPRECATION: Configuring installation scheme with distutils config files is deprecated and will no longer work in the near future. If you are using a Homebrew or Linuxbrew Python, please see discussion at https://github.com/Homebrew/homebrew-core/issues/76621\u001b[0m\u001b[33m\n",
            "\u001b[0mCollecting nashpy\n",
            "  Downloading nashpy-0.0.32-py3-none-any.whl (24 kB)\n",
            "Collecting scipy>=0.19.0\n",
            "  Downloading scipy-1.8.0-cp39-cp39-macosx_12_0_universal2.macosx_10_9_x86_64.whl (55.6 MB)\n",
            "\u001b[2K     \u001b[90m━━━━━━━━━━━━━━━━━━━━━━━━━━━━━━━━━━━━━━━\u001b[0m \u001b[32m55.6/55.6 MB\u001b[0m \u001b[31m294.5 kB/s\u001b[0m eta \u001b[36m0:00:00\u001b[0m00:01\u001b[0m00:05\u001b[0m\n",
            "\u001b[?25hCollecting numpy>=1.21.0\n",
            "  Downloading numpy-1.22.3-cp39-cp39-macosx_10_14_x86_64.whl (17.6 MB)\n",
            "\u001b[2K     \u001b[90m━━━━━━━━━━━━━━━━━━━━━━━━━━━━━━━━━━━━━━━\u001b[0m \u001b[32m17.6/17.6 MB\u001b[0m \u001b[31m383.5 kB/s\u001b[0m eta \u001b[36m0:00:00\u001b[0m00:01\u001b[0m00:02\u001b[0m\n",
            "\u001b[?25hInstalling collected packages: numpy, scipy, nashpy\n",
            "\u001b[33m  DEPRECATION: Configuring installation scheme with distutils config files is deprecated and will no longer work in the near future. If you are using a Homebrew or Linuxbrew Python, please see discussion at https://github.com/Homebrew/homebrew-core/issues/76621\u001b[0m\u001b[33m\n",
            "\u001b[0m\u001b[33m  DEPRECATION: Configuring installation scheme with distutils config files is deprecated and will no longer work in the near future. If you are using a Homebrew or Linuxbrew Python, please see discussion at https://github.com/Homebrew/homebrew-core/issues/76621\u001b[0m\u001b[33m\n",
            "\u001b[0m\u001b[33m  DEPRECATION: Configuring installation scheme with distutils config files is deprecated and will no longer work in the near future. If you are using a Homebrew or Linuxbrew Python, please see discussion at https://github.com/Homebrew/homebrew-core/issues/76621\u001b[0m\u001b[33m\n",
            "\u001b[0m\u001b[33mDEPRECATION: Configuring installation scheme with distutils config files is deprecated and will no longer work in the near future. If you are using a Homebrew or Linuxbrew Python, please see discussion at https://github.com/Homebrew/homebrew-core/issues/76621\u001b[0m\u001b[33m\n",
            "\u001b[0mSuccessfully installed nashpy-0.0.32 numpy-1.22.3 scipy-1.8.0\n",
            "Note: you may need to restart the kernel to use updated packages.\n",
            "\u001b[33mDEPRECATION: Configuring installation scheme with distutils config files is deprecated and will no longer work in the near future. If you are using a Homebrew or Linuxbrew Python, please see discussion at https://github.com/Homebrew/homebrew-core/issues/76621\u001b[0m\u001b[33m\n",
            "\u001b[0mCollecting quantecon\n",
            "  Downloading quantecon-0.5.3-py3-none-any.whl (179 kB)\n",
            "\u001b[2K     \u001b[90m━━━━━━━━━━━━━━━━━━━━━━━━━━━━━━━━━━━━━\u001b[0m \u001b[32m179.5/179.5 KB\u001b[0m \u001b[31m156.6 kB/s\u001b[0m eta \u001b[36m0:00:00\u001b[0ma \u001b[36m0:00:01\u001b[0m\n",
            "\u001b[?25hCollecting requests\n",
            "  Downloading requests-2.27.1-py2.py3-none-any.whl (63 kB)\n",
            "\u001b[2K     \u001b[90m━━━━━━━━━━━━━━━━━━━━━━━━━━━━━━━━━━━━━━━\u001b[0m \u001b[32m63.1/63.1 KB\u001b[0m \u001b[31m198.8 kB/s\u001b[0m eta \u001b[36m0:00:00\u001b[0ma \u001b[36m0:00:01\u001b[0m\n",
            "\u001b[?25hCollecting numba\n",
            "  Downloading numba-0.55.1-cp39-cp39-macosx_10_14_x86_64.whl (2.3 MB)\n",
            "\u001b[2K     \u001b[90m━━━━━━━━━━━━━━━━━━━━━━━━━━━━━━━━━━━━━━━━\u001b[0m \u001b[32m2.3/2.3 MB\u001b[0m \u001b[31m436.5 kB/s\u001b[0m eta \u001b[36m0:00:00\u001b[0m00:01\u001b[0m00:01\u001b[0m\n",
            "\u001b[?25hRequirement already satisfied: scipy>=1.0.0 in /usr/local/lib/python3.9/site-packages (from quantecon) (1.8.0)\n",
            "Collecting sympy\n",
            "  Downloading sympy-1.10.1-py3-none-any.whl (6.4 MB)\n",
            "\u001b[2K     \u001b[90m━━━━━━━━━━━━━━━━━━━━━━━━━━━━━━━━━━━━━━━━\u001b[0m \u001b[32m6.4/6.4 MB\u001b[0m \u001b[31m420.9 kB/s\u001b[0m eta \u001b[36m0:00:00\u001b[0m00:01\u001b[0m00:01\u001b[0m\n",
            "\u001b[?25hRequirement already satisfied: numpy in /usr/local/lib/python3.9/site-packages (from quantecon) (1.22.3)\n",
            "Collecting llvmlite<0.39,>=0.38.0rc1\n",
            "  Downloading llvmlite-0.38.0-cp39-cp39-macosx_10_9_x86_64.whl (25.5 MB)\n",
            "\u001b[2K     \u001b[90m━━━━━━━━━━━━━━━━━━━━━━━━━━━━━━━━━━━━━━━\u001b[0m \u001b[32m25.5/25.5 MB\u001b[0m \u001b[31m318.0 kB/s\u001b[0m eta \u001b[36m0:00:00\u001b[0m00:01\u001b[0m00:03\u001b[0m\n",
            "\u001b[?25hRequirement already satisfied: setuptools in /usr/local/lib/python3.9/site-packages (from numba->quantecon) (62.1.0)\n",
            "Collecting numpy\n",
            "  Downloading numpy-1.21.6-cp39-cp39-macosx_10_9_x86_64.whl (17.0 MB)\n",
            "\u001b[2K     \u001b[90m━━━━━━━━━━━━━━━━━━━━━━━━━━━━━━━━━━━━━━━\u001b[0m \u001b[32m17.0/17.0 MB\u001b[0m \u001b[31m383.4 kB/s\u001b[0m eta \u001b[36m0:00:00\u001b[0m00:01\u001b[0m00:02\u001b[0m\n",
            "\u001b[?25hCollecting urllib3<1.27,>=1.21.1\n",
            "  Downloading urllib3-1.26.9-py2.py3-none-any.whl (138 kB)\n",
            "\u001b[2K     \u001b[90m━━━━━━━━━━━━━━━━━━━━━━━━━━━━━━━━━━━━━\u001b[0m \u001b[32m139.0/139.0 KB\u001b[0m \u001b[31m468.9 kB/s\u001b[0m eta \u001b[36m0:00:00\u001b[0ma \u001b[36m0:00:01\u001b[0m\n",
            "\u001b[?25hCollecting charset-normalizer~=2.0.0\n",
            "  Downloading charset_normalizer-2.0.12-py3-none-any.whl (39 kB)\n",
            "Collecting idna<4,>=2.5\n",
            "  Using cached idna-3.3-py3-none-any.whl (61 kB)\n",
            "Collecting certifi>=2017.4.17\n",
            "  Using cached certifi-2021.10.8-py2.py3-none-any.whl (149 kB)\n",
            "Collecting mpmath>=0.19\n",
            "  Downloading mpmath-1.2.1-py3-none-any.whl (532 kB)\n",
            "\u001b[2K     \u001b[90m━━━━━━━━━━━━━━━━━━━━━━━━━━━━━━━━━━━━━\u001b[0m \u001b[32m532.6/532.6 KB\u001b[0m \u001b[31m368.5 kB/s\u001b[0m eta \u001b[36m0:00:00\u001b[0ma \u001b[36m0:00:01\u001b[0m\n",
            "\u001b[?25hInstalling collected packages: mpmath, certifi, urllib3, sympy, numpy, llvmlite, idna, charset-normalizer, requests, numba, quantecon\n",
            "\u001b[33m  DEPRECATION: Configuring installation scheme with distutils config files is deprecated and will no longer work in the near future. If you are using a Homebrew or Linuxbrew Python, please see discussion at https://github.com/Homebrew/homebrew-core/issues/76621\u001b[0m\u001b[33m\n",
            "\u001b[0m\u001b[33m  DEPRECATION: Configuring installation scheme with distutils config files is deprecated and will no longer work in the near future. If you are using a Homebrew or Linuxbrew Python, please see discussion at https://github.com/Homebrew/homebrew-core/issues/76621\u001b[0m\u001b[33m\n",
            "\u001b[0m\u001b[33m  DEPRECATION: Configuring installation scheme with distutils config files is deprecated and will no longer work in the near future. If you are using a Homebrew or Linuxbrew Python, please see discussion at https://github.com/Homebrew/homebrew-core/issues/76621\u001b[0m\u001b[33m\n",
            "\u001b[0m\u001b[33m  DEPRECATION: Configuring installation scheme with distutils config files is deprecated and will no longer work in the near future. If you are using a Homebrew or Linuxbrew Python, please see discussion at https://github.com/Homebrew/homebrew-core/issues/76621\u001b[0m\u001b[33m\n",
            "\u001b[0m  Attempting uninstall: numpy\n",
            "    Found existing installation: numpy 1.22.3\n",
            "    Uninstalling numpy-1.22.3:\n",
            "      Successfully uninstalled numpy-1.22.3\n",
            "\u001b[33m  DEPRECATION: Configuring installation scheme with distutils config files is deprecated and will no longer work in the near future. If you are using a Homebrew or Linuxbrew Python, please see discussion at https://github.com/Homebrew/homebrew-core/issues/76621\u001b[0m\u001b[33m\n",
            "\u001b[0m\u001b[33m  DEPRECATION: Configuring installation scheme with distutils config files is deprecated and will no longer work in the near future. If you are using a Homebrew or Linuxbrew Python, please see discussion at https://github.com/Homebrew/homebrew-core/issues/76621\u001b[0m\u001b[33m\n",
            "\u001b[0m\u001b[33m  DEPRECATION: Configuring installation scheme with distutils config files is deprecated and will no longer work in the near future. If you are using a Homebrew or Linuxbrew Python, please see discussion at https://github.com/Homebrew/homebrew-core/issues/76621\u001b[0m\u001b[33m\n",
            "\u001b[0m\u001b[33m  DEPRECATION: Configuring installation scheme with distutils config files is deprecated and will no longer work in the near future. If you are using a Homebrew or Linuxbrew Python, please see discussion at https://github.com/Homebrew/homebrew-core/issues/76621\u001b[0m\u001b[33m\n",
            "\u001b[0m\u001b[33m  DEPRECATION: Configuring installation scheme with distutils config files is deprecated and will no longer work in the near future. If you are using a Homebrew or Linuxbrew Python, please see discussion at https://github.com/Homebrew/homebrew-core/issues/76621\u001b[0m\u001b[33m\n",
            "\u001b[0m\u001b[33m  DEPRECATION: Configuring installation scheme with distutils config files is deprecated and will no longer work in the near future. If you are using a Homebrew or Linuxbrew Python, please see discussion at https://github.com/Homebrew/homebrew-core/issues/76621\u001b[0m\u001b[33m\n",
            "\u001b[0m\u001b[33m  DEPRECATION: Configuring installation scheme with distutils config files is deprecated and will no longer work in the near future. If you are using a Homebrew or Linuxbrew Python, please see discussion at https://github.com/Homebrew/homebrew-core/issues/76621\u001b[0m\u001b[33m\n",
            "\u001b[0m\u001b[33mDEPRECATION: Configuring installation scheme with distutils config files is deprecated and will no longer work in the near future. If you are using a Homebrew or Linuxbrew Python, please see discussion at https://github.com/Homebrew/homebrew-core/issues/76621\u001b[0m\u001b[33m\n",
            "\u001b[0mSuccessfully installed certifi-2021.10.8 charset-normalizer-2.0.12 idna-3.3 llvmlite-0.38.0 mpmath-1.2.1 numba-0.55.1 numpy-1.21.6 quantecon-0.5.3 requests-2.27.1 sympy-1.10.1 urllib3-1.26.9\n",
            "Note: you may need to restart the kernel to use updated packages.\n"
          ]
        }
      ],
      "source": [
        "# install the tools you will use later\n",
        "%pip install --upgrade setuptools\n",
        "%pip install --upgrade pip\n",
        "%pip install nashpy\n",
        "%pip install quantecon"
      ]
    },
    {
      "cell_type": "markdown",
      "metadata": {
        "id": "9n4oAve76HVv"
      },
      "source": [
        "<font face = Times size=4>\n",
        "\n",
        "***Nashpy: Chiken Game***\n",
        "    \n",
        "</font>"
      ]
    },
    {
      "cell_type": "markdown",
      "metadata": {
        "id": "Lz9SR0S98o9z"
      },
      "source": [
        "---\n",
        "\n",
        "<font face = Times size = 4>\n",
        "    \n",
        "***Example - Chiken Game:***\n",
        "\n",
        "</font>\n",
        "\n",
        "<div align=\"center\">\n",
        "<img src=\"https://miro.medium.com/max/1400/1*dpyN8Y5t2l36s_LeBOXnHg.jpeg\" width=\"40%\"/>\n",
        "    </div>\n",
        "<font face = Times size = 3>\n",
        "    <center> Fig: Chiken Game </center>\n",
        "    </font>\n",
        "\n",
        "\n"
      ]
    },
    {
      "cell_type": "markdown",
      "metadata": {
        "id": "q6NMoi759UN4"
      },
      "source": [
        "<font face = Times size = 4>\n",
        "    \n",
        "***Question:*** What is the equilibrium strategy profile?\n",
        "\n",
        "</font>"
      ]
    },
    {
      "cell_type": "markdown",
      "metadata": {
        "id": "btcuJNqb5E7v"
      },
      "source": [
        "<font face = Times size=4>\n",
        "\n",
        "***Using Nashpy:***\n",
        "    \n",
        "</font>"
      ]
    },
    {
      "cell_type": "code",
      "execution_count": 16,
      "metadata": {
        "colab": {
          "base_uri": "https://localhost:8080/",
          "height": 374
        },
        "id": "CbjI0v8f4FeH",
        "outputId": "45efa815-72ba-46d1-fa1a-cde3cd8fa5e5"
      },
      "outputs": [],
      "source": [
        "import nashpy as nash\n",
        "import numpy as np\n",
        "\n",
        "# Creater the game with the payoff matrix\n",
        "\n",
        "A = np.array([[0, -1],\n",
        "              [1, -100]]) # A is the row player\n",
        "\n",
        "B = np.array([[0, 1],\n",
        "              [-1, -100]]) # B is the column player"
      ]
    },
    {
      "cell_type": "code",
      "execution_count": 17,
      "metadata": {
        "colab": {
          "base_uri": "https://localhost:8080/"
        },
        "id": "SurUp9Rm4URh",
        "outputId": "738d7f4d-b242-4859-a997-12191071d2c2"
      },
      "outputs": [
        {
          "data": {
            "text/plain": [
              "Bi matrix game with payoff matrices:\n",
              "\n",
              "Row player:\n",
              "[[   0   -1]\n",
              " [   1 -100]]\n",
              "\n",
              "Column player:\n",
              "[[   0    1]\n",
              " [  -1 -100]]"
            ]
          },
          "execution_count": 17,
          "metadata": {},
          "output_type": "execute_result"
        }
      ],
      "source": [
        "# Form the game\n",
        "CKgame = nash.Game(A,B)\n",
        "CKgame"
      ]
    },
    {
      "cell_type": "code",
      "execution_count": 18,
      "metadata": {
        "colab": {
          "base_uri": "https://localhost:8080/"
        },
        "id": "3eauV8jY9nL3",
        "outputId": "f65d3760-16bb-488b-a0fa-43283dc810c5"
      },
      "outputs": [
        {
          "name": "stdout",
          "output_type": "stream",
          "text": [
            "(array([1., 0.]), array([0., 1.]))\n",
            "(array([0., 1.]), array([1., 0.]))\n",
            "(array([0.99, 0.01]), array([0.99, 0.01]))\n"
          ]
        }
      ],
      "source": [
        "# Find the Nash Equilibrium with Support Enumeration\n",
        "equilibria = CKgame.support_enumeration()\n",
        "for eq in equilibria:\n",
        "    print(eq)"
      ]
    },
    {
      "cell_type": "markdown",
      "metadata": {},
      "source": [
        "Interpretation of the results:\n",
        "\n",
        "In the output of Nashpy, each tuple represents a strategy set. The first two tuples represent the pure strategy NE, which are TOP LEFT and BOTTOM RIGHT. The third tuple shows the mixed strategy NE."
      ]
    },
    {
      "cell_type": "markdown",
      "metadata": {
        "id": "LzIBr9IYAbxL"
      },
      "source": [
        "<font face = Times size = 4>\n",
        "\n",
        "***Using QuantEcon:*** \n",
        "    \n",
        "</font>"
      ]
    },
    {
      "cell_type": "markdown",
      "metadata": {
        "id": "odtHkHthdE4r"
      },
      "source": [
        "<font face = Times size = 4>\n",
        "\n",
        "***Form the game:*** In the following part, three ways to form a game will be shown.\n",
        "    \n",
        "</font>"
      ]
    },
    {
      "cell_type": "code",
      "execution_count": 19,
      "metadata": {
        "colab": {
          "base_uri": "https://localhost:8080/"
        },
        "id": "WR0w3F95Ah_z",
        "outputId": "9076f976-5311-41c1-f482-22ac3806cf27"
      },
      "outputs": [
        {
          "name": "stdout",
          "output_type": "stream",
          "text": [
            "2-player NormalFormGame with payoff profile array:\n",
            "[[[   0,    0],  [  -1,    1]],\n",
            " [[   1,   -1],  [-100, -100]]]\n"
          ]
        }
      ],
      "source": [
        "# import the QuantEcon package\n",
        "import quantecon.game_theory as gt\n",
        "import numpy as np\n",
        "\n",
        "# The first way to form the game: by the payoff matrix\n",
        "chiken_game_matrix = np.array([[(0, 0), (-1, 1)],\n",
        "                                    [(1, -1), (-100, -100)]])\n",
        "\n",
        "g_CG = gt.NormalFormGame(chiken_game_matrix)\n",
        "print(g_CG)"
      ]
    },
    {
      "cell_type": "code",
      "execution_count": 21,
      "metadata": {
        "colab": {
          "base_uri": "https://localhost:8080/"
        },
        "id": "GCgxlULFVz4U",
        "outputId": "cfb0a8ea-0a5f-4f7a-b961-4fd45302fa58"
      },
      "outputs": [
        {
          "name": "stdout",
          "output_type": "stream",
          "text": [
            "2-player NormalFormGame with payoff profile array:\n",
            "[[[   0,    0],  [  -1,    1]],\n",
            " [[   1,   -1],  [-100, -100]]]\n"
          ]
        }
      ],
      "source": [
        "# The second way to form the game: by players\n",
        "player0 = gt.Player([[0, -1],\n",
        "              [1, -100]])\n",
        "\n",
        "# Please pay attention to the difference here!!!\n",
        "player1 = gt.Player([[0, -1],\n",
        "              [1, -100]])\n",
        "\n",
        "# Pass in the two players\n",
        "g_CG = gt.NormalFormGame((player0, player1))\n",
        "print(g_CG)"
      ]
    },
    {
      "cell_type": "code",
      "execution_count": 22,
      "metadata": {
        "colab": {
          "base_uri": "https://localhost:8080/"
        },
        "id": "h7aELn1xXfU1",
        "outputId": "cb352229-8e81-4314-c295-a48528fd8f3e"
      },
      "outputs": [
        {
          "name": "stdout",
          "output_type": "stream",
          "text": [
            "2-player NormalFormGame with payoff profile array:\n",
            "[[[   0.,    0.],  [  -1.,    1.]],\n",
            " [[   1.,   -1.],  [-100., -100.]]]\n"
          ]
        }
      ],
      "source": [
        "# the third way to form the game: by actions (Not recommanded)\n",
        "\n",
        "# 2 players, each of whom has 2 actions\n",
        "g_CG = gt.NormalFormGame((2, 2))\n",
        "g_CG[0, 0] = 0, 0\n",
        "g_CG[0, 1] = -1, 1\n",
        "g_CG[1, 0] = 1, -1\n",
        "g_CG[1, 1] = -100, -100\n",
        "\n",
        "print(g_CG)"
      ]
    },
    {
      "cell_type": "markdown",
      "metadata": {},
      "source": [
        "Short Summay:\n",
        "\n",
        "There are three ways to form a game using QuantEcon. Personally I will recommand you to use the first way (directly pass in the payoff matrix). This is the most intuitive way. Also, if you used to use Nashpy, the logic of forming a game by Nashpy and by QuantEcon are different, please pay attention to that.\n",
        "\n"
      ]
    },
    {
      "cell_type": "markdown",
      "metadata": {
        "id": "E3pxLwlediGQ"
      },
      "source": [
        "<font face = Times size = 4>\n",
        "\n",
        "***Find the Nash equilibrium:*** \n",
        "    \n",
        "    \n",
        "</font>"
      ]
    },
    {
      "cell_type": "code",
      "execution_count": 23,
      "metadata": {
        "colab": {
          "base_uri": "https://localhost:8080/"
        },
        "id": "-Z9Evvr2bm1r",
        "outputId": "f00b179a-a978-462d-a001-3c2e66c93fd2"
      },
      "outputs": [
        {
          "name": "stdout",
          "output_type": "stream",
          "text": [
            "[(0, 1), (1, 0)]\n"
          ]
        }
      ],
      "source": [
        "# Finding the Nash equilibrium: pure_nash_brute\n",
        "\n",
        "NE = gt.pure_nash_brute(g_CG)\n",
        "print(NE)"
      ]
    },
    {
      "cell_type": "code",
      "execution_count": 24,
      "metadata": {
        "colab": {
          "base_uri": "https://localhost:8080/"
        },
        "id": "39DwVPvIfMfU",
        "outputId": "9755c2b9-0ada-40dc-f8c1-56398d1184bc"
      },
      "outputs": [
        {
          "name": "stdout",
          "output_type": "stream",
          "text": [
            "[(array([1., 0.]), array([0., 1.])), (array([0., 1.]), array([1., 0.])), (array([0.99, 0.01]), array([0.99, 0.01]))]\n"
          ]
        }
      ],
      "source": [
        "# Finding the Nash equilibrium: support_enumeration\n",
        "\n",
        "NE = gt.support_enumeration(g_CG)\n",
        "print(NE)"
      ]
    },
    {
      "cell_type": "code",
      "execution_count": 25,
      "metadata": {
        "colab": {
          "base_uri": "https://localhost:8080/"
        },
        "id": "KU_Qfb0xfWZV",
        "outputId": "424455a8-f6bb-4245-dfe1-cb5d6e5bff8c"
      },
      "outputs": [
        {
          "name": "stdout",
          "output_type": "stream",
          "text": [
            "[(array([1., 0.]), array([0., 1.])), (array([0., 1.]), array([1., 0.])), (array([0.99, 0.01]), array([0.99, 0.01]))]\n"
          ]
        }
      ],
      "source": [
        "NE = gt.vertex_enumeration(g_CG)\n",
        "print(NE)"
      ]
    },
    {
      "cell_type": "markdown",
      "metadata": {},
      "source": [
        "Short Summay:\n",
        "\n",
        "We introduced three way to solve for the Nash equilibrium. Pure_nash_brute is able to return the pure strategy NE. Support_enumeration and vertex_enumeration both computes mixed-action Nash equilibria of a 2-player normal form game by enumeration and matching of vertices of the best response polytopes, but the latter seems to run faster than the former.\n",
        "\n"
      ]
    }
  ],
  "metadata": {
    "colab": {
      "name": "Nashpy  & QuantEcon.ipynb",
      "provenance": []
    },
    "kernelspec": {
      "display_name": "Python 3",
      "name": "python3"
    },
    "language_info": {
      "codemirror_mode": {
        "name": "ipython",
        "version": 3
      },
      "file_extension": ".py",
      "mimetype": "text/x-python",
      "name": "python",
      "nbconvert_exporter": "python",
      "pygments_lexer": "ipython3",
      "version": "3.9.8"
    }
  },
  "nbformat": 4,
  "nbformat_minor": 0
}
